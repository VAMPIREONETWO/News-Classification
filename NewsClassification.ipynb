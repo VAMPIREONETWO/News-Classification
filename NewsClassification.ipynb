{
 "metadata": {
  "kernelspec": {
   "language": "python",
   "display_name": "Python 3",
   "name": "python3"
  },
  "language_info": {
   "name": "python",
   "version": "3.7.12",
   "mimetype": "text/x-python",
   "codemirror_mode": {
    "name": "ipython",
    "version": 3
   },
   "pygments_lexer": "ipython3",
   "nbconvert_exporter": "python",
   "file_extension": ".py"
  }
 },
 "nbformat_minor": 4,
 "nbformat": 4,
 "cells": [
  {
   "cell_type": "code",
   "source": [
    "from sklearn.model_selection import train_test_split\n",
    "import tensorflow as tf\n",
    "from keras.preprocessing.text import Tokenizer\n",
    "from keras.optimizers import Adam\n",
    "from keras.losses import SparseCategoricalCrossentropy\n",
    "from keras.models import Sequential\n",
    "from keras.layers import Embedding,Dense,GlobalAveragePooling1D\n",
    "import re\n",
    "import numpy as np\n",
    "import pandas as pd"
   ],
   "metadata": {
    "_uuid": "8f2839f25d086af736a60e9eeb907d3b93b6e0e5",
    "_cell_guid": "b1076dfc-b9ad-4769-8c92-a6c4dae69d19",
    "execution": {
     "iopub.status.busy": "2023-05-10T02:14:38.790150Z",
     "iopub.execute_input": "2023-05-10T02:14:38.790948Z",
     "iopub.status.idle": "2023-05-10T02:14:51.656521Z",
     "shell.execute_reply.started": "2023-05-10T02:14:38.790892Z",
     "shell.execute_reply": "2023-05-10T02:14:51.655310Z"
    },
    "trusted": true,
    "ExecuteTime": {
     "end_time": "2024-01-06T17:37:01.642159500Z",
     "start_time": "2024-01-06T17:37:01.595283500Z"
    }
   },
   "execution_count": 56,
   "outputs": []
  },
  {
   "cell_type": "code",
   "source": [
    "# Stopwords list from https://github.com/Yoast/YoastSEO.js/blob/develop/src/config/stopwords.js\n",
    "stopwords = [ \"a\", \"about\", \"above\", \"after\", \"again\", \"against\", \"all\", \"am\", \"an\", \"and\", \"any\", \"are\", \"as\", \"at\", \"be\", \"because\", \"been\", \"before\", \"being\", \"below\", \"between\", \"both\", \"but\", \"by\", \"could\", \"did\", \"do\", \"does\", \"doing\", \"down\", \"during\", \"each\", \"few\", \"for\", \"from\", \"further\", \"had\", \"has\", \"have\", \"having\", \"he\", \"he'd\", \"he'll\", \"he's\", \"her\", \"here\", \"here's\", \"hers\", \"herself\", \"him\", \"himself\", \"his\", \"how\", \"how's\", \"i\", \"i'd\", \"i'll\", \"i'm\", \"i've\", \"if\", \"in\", \"into\", \"is\", \"it\", \"it's\", \"its\", \"itself\", \"let's\", \"me\", \"more\", \"most\", \"my\", \"myself\", \"nor\", \"of\", \"on\", \"once\", \"only\", \"or\", \"other\", \"ought\", \"our\", \"ours\", \"ourselves\", \"out\", \"over\", \"own\", \"same\", \"she\", \"she'd\", \"she'll\", \"she's\", \"should\", \"so\", \"some\", \"such\", \"than\", \"that\", \"that's\", \"the\", \"their\", \"theirs\", \"them\", \"themselves\", \"then\", \"there\", \"there's\", \"these\", \"they\", \"they'd\", \"they'll\", \"they're\", \"they've\", \"this\", \"those\", \"through\", \"to\", \"too\", \"under\", \"until\", \"up\", \"very\", \"was\", \"we\", \"we'd\", \"we'll\", \"we're\", \"we've\", \"were\", \"what\", \"what's\", \"when\", \"when's\", \"where\", \"where's\", \"which\", \"while\", \"who\", \"who's\", \"whom\", \"why\", \"why's\", \"with\", \"would\", \"you\", \"you'd\", \"you'll\", \"you're\", \"you've\", \"your\", \"yours\", \"yourself\", \"yourselves\" ]"
   ],
   "metadata": {
    "execution": {
     "iopub.status.busy": "2023-05-10T02:15:47.366814Z",
     "iopub.execute_input": "2023-05-10T02:15:47.367381Z",
     "iopub.status.idle": "2023-05-10T02:15:47.384429Z",
     "shell.execute_reply.started": "2023-05-10T02:15:47.367335Z",
     "shell.execute_reply": "2023-05-10T02:15:47.382915Z"
    },
    "trusted": true,
    "ExecuteTime": {
     "end_time": "2024-01-06T17:37:01.657776700Z",
     "start_time": "2024-01-06T17:37:01.610906700Z"
    }
   },
   "execution_count": 57,
   "outputs": []
  },
  {
   "cell_type": "code",
   "source": [
    "# removing non alphanumeric character\n",
    "def alpha_num(text):\n",
    "    return re.sub(r'[^A-Za-z0-9 ]', '', text)\n",
    "\n",
    "# removing the stopwords from text\n",
    "def remove_stopwords(text):\n",
    "    final_text = []\n",
    "    for i in text.split():\n",
    "        if i.strip().lower() not in stopwords:\n",
    "            final_text.append(i.strip())\n",
    "    return \" \".join(final_text)\n",
    "\n",
    "def preprocess(df):\n",
    "    df['title'] = df['title'].str.lower()\n",
    "    df['title'] = df['title'].apply(alpha_num)\n",
    "    df['title'] = df['title'].apply(remove_stopwords)\n",
    "    return df"
   ],
   "metadata": {
    "execution": {
     "iopub.status.busy": "2023-05-10T02:16:04.707509Z",
     "iopub.execute_input": "2023-05-10T02:16:04.708495Z",
     "iopub.status.idle": "2023-05-10T02:16:04.716279Z",
     "shell.execute_reply.started": "2023-05-10T02:16:04.708454Z",
     "shell.execute_reply": "2023-05-10T02:16:04.714248Z"
    },
    "trusted": true,
    "ExecuteTime": {
     "end_time": "2024-01-06T17:37:01.657776700Z",
     "start_time": "2024-01-06T17:37:01.626530300Z"
    }
   },
   "execution_count": 58,
   "outputs": []
  },
  {
   "cell_type": "markdown",
   "source": [
    "# Limit GPU(Can be ignored)"
   ],
   "metadata": {
    "collapsed": false
   }
  },
  {
   "cell_type": "code",
   "execution_count": 59,
   "outputs": [],
   "source": [
    "# using_gpu_index = 0\n",
    "# gpu_list = tf.config.experimental.list_physical_devices('GPU')\n",
    "# if len(gpu_list) > 0:\n",
    "#     try:\n",
    "#         tf.config.experimental.set_virtual_device_configuration(\n",
    "#             gpu_list[using_gpu_index],\n",
    "#             [tf.config.experimental.VirtualDeviceConfiguration(memory_limit=4096)]  # limit the size of GPU memory\n",
    "#         )\n",
    "#     except RuntimeError as e:\n",
    "#         print(e)\n",
    "# else:\n",
    "#     print(\"Got no GPUs\")"
   ],
   "metadata": {
    "collapsed": false,
    "ExecuteTime": {
     "end_time": "2024-01-06T17:37:01.657776700Z",
     "start_time": "2024-01-06T17:37:01.642159500Z"
    }
   }
  },
  {
   "cell_type": "markdown",
   "source": [
    "# Data"
   ],
   "metadata": {
    "collapsed": false
   }
  },
  {
   "cell_type": "code",
   "execution_count": 60,
   "outputs": [
    {
     "data": {
      "text/plain": "            id  category                                              title   \n0       234324        31  handle wrongway driver coming clevelands highways  \\\n1       255943        29  29 southern california zips make us list prici...   \n2        94883        21  getting youth back work policy lessons around ...   \n3        73321         0  katniss jon snows worst enemy hunger games got...   \n4       149036         0  george clooney talks love amal s devastatingly...   \n...        ...       ...                                                ...   \n199995  197218        17  bobbi linden texas mom buys ipad gets box stuf...   \n199996   12917         2                            letting go feeling good   \n199997  115704         9          oklahoma teachers union calls end walkout   \n199998  318999        26  sc activists concerned toxins former upstate p...   \n199999   29446        22                           interested mars olympics   \n\n                                                     body  \n0       CLEVELAND, Ohio (WOIO) -In the past year there...  \n1       It s no secret that Southern California homes ...  \n2       Without the right skills, people will languish...  \n3                Team Katniss Everdeen vs. Team Jon Snow.  \n4       The actor described his love for his wife on D...  \n...                                                   ...  \n199995  Courtney Akers wanted a tablet for her 15th bi...  \n199996  Letting go isn't easy, especially in relations...  \n199997  Schools will reopen soon after negotiations st...  \n199998  Members of an environmental group are concerne...  \n199999  The Mars race is about human survival and unde...  \n\n[200000 rows x 4 columns]",
      "text/html": "<div>\n<style scoped>\n    .dataframe tbody tr th:only-of-type {\n        vertical-align: middle;\n    }\n\n    .dataframe tbody tr th {\n        vertical-align: top;\n    }\n\n    .dataframe thead th {\n        text-align: right;\n    }\n</style>\n<table border=\"1\" class=\"dataframe\">\n  <thead>\n    <tr style=\"text-align: right;\">\n      <th></th>\n      <th>id</th>\n      <th>category</th>\n      <th>title</th>\n      <th>body</th>\n    </tr>\n  </thead>\n  <tbody>\n    <tr>\n      <th>0</th>\n      <td>234324</td>\n      <td>31</td>\n      <td>handle wrongway driver coming clevelands highways</td>\n      <td>CLEVELAND, Ohio (WOIO) -In the past year there...</td>\n    </tr>\n    <tr>\n      <th>1</th>\n      <td>255943</td>\n      <td>29</td>\n      <td>29 southern california zips make us list prici...</td>\n      <td>It s no secret that Southern California homes ...</td>\n    </tr>\n    <tr>\n      <th>2</th>\n      <td>94883</td>\n      <td>21</td>\n      <td>getting youth back work policy lessons around ...</td>\n      <td>Without the right skills, people will languish...</td>\n    </tr>\n    <tr>\n      <th>3</th>\n      <td>73321</td>\n      <td>0</td>\n      <td>katniss jon snows worst enemy hunger games got...</td>\n      <td>Team Katniss Everdeen vs. Team Jon Snow.</td>\n    </tr>\n    <tr>\n      <th>4</th>\n      <td>149036</td>\n      <td>0</td>\n      <td>george clooney talks love amal s devastatingly...</td>\n      <td>The actor described his love for his wife on D...</td>\n    </tr>\n    <tr>\n      <th>...</th>\n      <td>...</td>\n      <td>...</td>\n      <td>...</td>\n      <td>...</td>\n    </tr>\n    <tr>\n      <th>199995</th>\n      <td>197218</td>\n      <td>17</td>\n      <td>bobbi linden texas mom buys ipad gets box stuf...</td>\n      <td>Courtney Akers wanted a tablet for her 15th bi...</td>\n    </tr>\n    <tr>\n      <th>199996</th>\n      <td>12917</td>\n      <td>2</td>\n      <td>letting go feeling good</td>\n      <td>Letting go isn't easy, especially in relations...</td>\n    </tr>\n    <tr>\n      <th>199997</th>\n      <td>115704</td>\n      <td>9</td>\n      <td>oklahoma teachers union calls end walkout</td>\n      <td>Schools will reopen soon after negotiations st...</td>\n    </tr>\n    <tr>\n      <th>199998</th>\n      <td>318999</td>\n      <td>26</td>\n      <td>sc activists concerned toxins former upstate p...</td>\n      <td>Members of an environmental group are concerne...</td>\n    </tr>\n    <tr>\n      <th>199999</th>\n      <td>29446</td>\n      <td>22</td>\n      <td>interested mars olympics</td>\n      <td>The Mars race is about human survival and unde...</td>\n    </tr>\n  </tbody>\n</table>\n<p>200000 rows × 4 columns</p>\n</div>"
     },
     "execution_count": 60,
     "metadata": {},
     "output_type": "execute_result"
    }
   ],
   "source": [
    "train_df = pd.read_csv(\"./dataset/train.csv\")\n",
    "train_df = preprocess(train_df)\n",
    "train_df"
   ],
   "metadata": {
    "collapsed": false,
    "ExecuteTime": {
     "end_time": "2024-01-06T17:37:07.051239100Z",
     "start_time": "2024-01-06T17:37:01.657776700Z"
    }
   }
  },
  {
   "cell_type": "code",
   "execution_count": 61,
   "outputs": [
    {
     "data": {
      "text/plain": "          id                                              title   \n0          0  gif shows schuylkill rivers dramatic transform...  \\\n1          1                     20 pieces 90sinspired wall art   \n2          2  white house comes effort block whitecollar cri...   \n3          3  maya apocalypse 2012 end world valladolid mexi...   \n4          4  parents remarried need include stepparents wed...   \n...      ...                                                ...   \n99995  99995  stephen smith finds feeling sorry patriots tom...   \n99996  99996                                      im milk milks   \n99997  99997             republican friends please please break   \n99998  99998  not woods yet beach erosion threat may continu...   \n99999  99999    justin bieber sings karaoke justin bieber songs   \n\n                                                    body  \n0      The skyline around   is such an iconic part of...  \n1      It s no secret that were  90s-obsessed here at...  \n2      Sweeping changes would affect food safety, the...  \n3      The young and aggressively tanned festival goe...  \n4      While a bride and groom's parents have pretty ...  \n...                                                  ...  \n99995  Tom Brady has been quite successful over the c...  \n99996  Wait, you thought Maurice Sendak's books were ...  \n99997  I need you to hear me out even though you may ...  \n99998  GRAND HAVEN, MI -- Lakeshore homeowners   will...  \n99999                                   Never say never!  \n\n[100000 rows x 3 columns]",
      "text/html": "<div>\n<style scoped>\n    .dataframe tbody tr th:only-of-type {\n        vertical-align: middle;\n    }\n\n    .dataframe tbody tr th {\n        vertical-align: top;\n    }\n\n    .dataframe thead th {\n        text-align: right;\n    }\n</style>\n<table border=\"1\" class=\"dataframe\">\n  <thead>\n    <tr style=\"text-align: right;\">\n      <th></th>\n      <th>id</th>\n      <th>title</th>\n      <th>body</th>\n    </tr>\n  </thead>\n  <tbody>\n    <tr>\n      <th>0</th>\n      <td>0</td>\n      <td>gif shows schuylkill rivers dramatic transform...</td>\n      <td>The skyline around   is such an iconic part of...</td>\n    </tr>\n    <tr>\n      <th>1</th>\n      <td>1</td>\n      <td>20 pieces 90sinspired wall art</td>\n      <td>It s no secret that were  90s-obsessed here at...</td>\n    </tr>\n    <tr>\n      <th>2</th>\n      <td>2</td>\n      <td>white house comes effort block whitecollar cri...</td>\n      <td>Sweeping changes would affect food safety, the...</td>\n    </tr>\n    <tr>\n      <th>3</th>\n      <td>3</td>\n      <td>maya apocalypse 2012 end world valladolid mexi...</td>\n      <td>The young and aggressively tanned festival goe...</td>\n    </tr>\n    <tr>\n      <th>4</th>\n      <td>4</td>\n      <td>parents remarried need include stepparents wed...</td>\n      <td>While a bride and groom's parents have pretty ...</td>\n    </tr>\n    <tr>\n      <th>...</th>\n      <td>...</td>\n      <td>...</td>\n      <td>...</td>\n    </tr>\n    <tr>\n      <th>99995</th>\n      <td>99995</td>\n      <td>stephen smith finds feeling sorry patriots tom...</td>\n      <td>Tom Brady has been quite successful over the c...</td>\n    </tr>\n    <tr>\n      <th>99996</th>\n      <td>99996</td>\n      <td>im milk milks</td>\n      <td>Wait, you thought Maurice Sendak's books were ...</td>\n    </tr>\n    <tr>\n      <th>99997</th>\n      <td>99997</td>\n      <td>republican friends please please break</td>\n      <td>I need you to hear me out even though you may ...</td>\n    </tr>\n    <tr>\n      <th>99998</th>\n      <td>99998</td>\n      <td>not woods yet beach erosion threat may continu...</td>\n      <td>GRAND HAVEN, MI -- Lakeshore homeowners   will...</td>\n    </tr>\n    <tr>\n      <th>99999</th>\n      <td>99999</td>\n      <td>justin bieber sings karaoke justin bieber songs</td>\n      <td>Never say never!</td>\n    </tr>\n  </tbody>\n</table>\n<p>100000 rows × 3 columns</p>\n</div>"
     },
     "execution_count": 61,
     "metadata": {},
     "output_type": "execute_result"
    }
   ],
   "source": [
    "test_df = pd.read_csv(\"./dataset/test.csv\")\n",
    "test_df = preprocess(test_df)\n",
    "test_df"
   ],
   "metadata": {
    "collapsed": false,
    "ExecuteTime": {
     "end_time": "2024-01-06T17:37:09.744130Z",
     "start_time": "2024-01-06T17:37:07.051239100Z"
    }
   }
  },
  {
   "cell_type": "code",
   "source": [
    "# parameters\n",
    "vocab_size = 7000\n",
    "max_length = 100\n",
    "trunc_type='post'\n",
    "padding_type='post'\n",
    "oov_tok = \"<OOV>\""
   ],
   "metadata": {
    "execution": {
     "iopub.status.busy": "2023-05-10T02:36:54.545561Z",
     "iopub.execute_input": "2023-05-10T02:36:54.546073Z",
     "iopub.status.idle": "2023-05-10T02:36:54.552103Z",
     "shell.execute_reply.started": "2023-05-10T02:36:54.546033Z",
     "shell.execute_reply": "2023-05-10T02:36:54.550883Z"
    },
    "trusted": true,
    "ExecuteTime": {
     "end_time": "2024-01-06T17:37:09.759767900Z",
     "start_time": "2024-01-06T17:37:09.744130Z"
    }
   },
   "execution_count": 62,
   "outputs": []
  },
  {
   "cell_type": "code",
   "source": [
    "train_x, train_y = train_df['title'].to_numpy(), train_df['category'].to_numpy().reshape(len(train_df['category']),1)\n",
    "test_x = test_df['title'].to_numpy()\n",
    "\n",
    "# train-test split\n",
    "train_x,valid_x, train_y, valid_y = train_test_split(train_x, train_y, test_size=0.2, stratify=train_y)\n",
    "\n",
    "# tokenize sentences\n",
    "tokenizer = Tokenizer(num_words = vocab_size, oov_token=oov_tok)\n",
    "tokenizer.fit_on_texts(train_x)\n",
    "word_index = tokenizer.word_index\n",
    "\n",
    "# convert train dataset to sequence and pad sequences\n",
    "train_x = tokenizer.texts_to_sequences(train_x)\n",
    "train_x = tf.keras.preprocessing.sequence.pad_sequences(train_x, padding=padding_type, maxlen=max_length)\n",
    "\n",
    "# convert valid dataset to sequence and pad sequences\n",
    "valid_x = tokenizer.texts_to_sequences(valid_x)\n",
    "valid_x = tf.keras.preprocessing.sequence.pad_sequences(valid_x, padding=padding_type, maxlen=max_length)"
   ],
   "metadata": {
    "execution": {
     "iopub.status.busy": "2023-05-09T07:39:24.964495Z",
     "iopub.execute_input": "2023-05-09T07:39:24.964921Z",
     "iopub.status.idle": "2023-05-09T07:39:26.578779Z",
     "shell.execute_reply.started": "2023-05-09T07:39:24.964878Z",
     "shell.execute_reply": "2023-05-09T07:39:26.577688Z"
    },
    "trusted": true,
    "ExecuteTime": {
     "end_time": "2024-01-06T17:37:13.188270400Z",
     "start_time": "2024-01-06T17:37:09.775391600Z"
    }
   },
   "execution_count": 63,
   "outputs": []
  },
  {
   "cell_type": "markdown",
   "source": [
    "# Model Construction"
   ],
   "metadata": {
    "collapsed": false
   }
  },
  {
   "cell_type": "code",
   "source": [
    "model = Sequential([\n",
    "  Embedding(vocab_size, 16, name=\"embedding\",input_length=max_length),\n",
    "  GlobalAveragePooling1D(),\n",
    "  Dense(32, activation='softmax'),\n",
    "])\n",
    "model.compile(loss=SparseCategoricalCrossentropy(),\n",
    "              optimizer= Adam(),\n",
    "              metrics=['accuracy'])\n",
    "model.summary()"
   ],
   "metadata": {
    "execution": {
     "iopub.status.busy": "2023-05-09T07:44:37.642666Z",
     "iopub.execute_input": "2023-05-09T07:44:37.643063Z",
     "iopub.status.idle": "2023-05-09T07:44:37.711240Z",
     "shell.execute_reply.started": "2023-05-09T07:44:37.643026Z",
     "shell.execute_reply": "2023-05-09T07:44:37.710408Z"
    },
    "trusted": true,
    "ExecuteTime": {
     "end_time": "2024-01-06T17:37:13.265172400Z",
     "start_time": "2024-01-06T17:37:13.188270400Z"
    }
   },
   "execution_count": 64,
   "outputs": [
    {
     "name": "stdout",
     "output_type": "stream",
     "text": [
      "Model: \"sequential_13\"\n",
      "_________________________________________________________________\n",
      " Layer (type)                Output Shape              Param #   \n",
      "=================================================================\n",
      " embedding (Embedding)       (None, 100, 16)           112000    \n",
      "                                                                 \n",
      " global_average_pooling1d_13  (None, 16)               0         \n",
      "  (GlobalAveragePooling1D)                                       \n",
      "                                                                 \n",
      " dense_14 (Dense)            (None, 32)                544       \n",
      "                                                                 \n",
      "=================================================================\n",
      "Total params: 112,544\n",
      "Trainable params: 112,544\n",
      "Non-trainable params: 0\n",
      "_________________________________________________________________\n"
     ]
    }
   ]
  },
  {
   "cell_type": "markdown",
   "source": [
    "# Train"
   ],
   "metadata": {
    "collapsed": false
   }
  },
  {
   "cell_type": "code",
   "execution_count": 65,
   "outputs": [
    {
     "name": "stdout",
     "output_type": "stream",
     "text": [
      "Epoch 1/20\n",
      "5000/5000 [==============================] - 7s 1ms/step - loss: 2.7418 - accuracy: 0.2731\n",
      "Epoch 2/20\n",
      "5000/5000 [==============================] - 7s 1ms/step - loss: 2.2881 - accuracy: 0.3938\n",
      "Epoch 3/20\n",
      "5000/5000 [==============================] - 7s 1ms/step - loss: 2.0344 - accuracy: 0.4460\n",
      "Epoch 4/20\n",
      "5000/5000 [==============================] - 7s 1ms/step - loss: 1.8536 - accuracy: 0.4925\n",
      "Epoch 5/20\n",
      "5000/5000 [==============================] - 16s 3ms/step - loss: 1.7117 - accuracy: 0.5360\n",
      "Epoch 6/20\n",
      "5000/5000 [==============================] - 7s 1ms/step - loss: 1.6009 - accuracy: 0.5652\n",
      "Epoch 7/20\n",
      "5000/5000 [==============================] - 6s 1ms/step - loss: 1.5149 - accuracy: 0.5877\n",
      "Epoch 8/20\n",
      "5000/5000 [==============================] - 7s 1ms/step - loss: 1.4475 - accuracy: 0.6055\n",
      "Epoch 9/20\n",
      "5000/5000 [==============================] - 7s 1ms/step - loss: 1.3939 - accuracy: 0.6196\n",
      "Epoch 10/20\n",
      "5000/5000 [==============================] - 7s 1ms/step - loss: 1.3507 - accuracy: 0.6302\n",
      "Epoch 11/20\n",
      "5000/5000 [==============================] - 7s 1ms/step - loss: 1.3145 - accuracy: 0.6386\n",
      "Epoch 12/20\n",
      "5000/5000 [==============================] - 7s 1ms/step - loss: 1.2836 - accuracy: 0.6462\n",
      "Epoch 13/20\n",
      "5000/5000 [==============================] - 8s 2ms/step - loss: 1.2563 - accuracy: 0.6529\n",
      "Epoch 14/20\n",
      "5000/5000 [==============================] - 8s 2ms/step - loss: 1.2322 - accuracy: 0.6582\n",
      "Epoch 15/20\n",
      "5000/5000 [==============================] - 7s 1ms/step - loss: 1.2102 - accuracy: 0.6638\n",
      "Epoch 16/20\n",
      "5000/5000 [==============================] - 7s 1ms/step - loss: 1.1905 - accuracy: 0.6682\n",
      "Epoch 17/20\n",
      "5000/5000 [==============================] - 7s 1ms/step - loss: 1.1725 - accuracy: 0.6725\n",
      "Epoch 18/20\n",
      "5000/5000 [==============================] - 8s 2ms/step - loss: 1.1554 - accuracy: 0.6770\n",
      "Epoch 19/20\n",
      "5000/5000 [==============================] - 8s 2ms/step - loss: 1.1402 - accuracy: 0.6806\n",
      "Epoch 20/20\n",
      "5000/5000 [==============================] - 8s 2ms/step - loss: 1.1259 - accuracy: 0.6835\n"
     ]
    }
   ],
   "source": [
    "history = model.fit(train_x, train_y, batch_size=32,epochs=20)"
   ],
   "metadata": {
    "collapsed": false,
    "ExecuteTime": {
     "end_time": "2024-01-06T17:39:44.977771700Z",
     "start_time": "2024-01-06T17:37:13.233868500Z"
    }
   }
  },
  {
   "cell_type": "markdown",
   "source": [
    "# Validation"
   ],
   "metadata": {
    "collapsed": false
   }
  },
  {
   "cell_type": "code",
   "execution_count": 66,
   "outputs": [
    {
     "name": "stdout",
     "output_type": "stream",
     "text": [
      "1250/1250 [==============================] - 1s 909us/step - loss: 1.3421 - accuracy: 0.6345\n"
     ]
    },
    {
     "data": {
      "text/plain": "{'loss': 1.3421082496643066, 'accuracy': 0.6345000267028809}"
     },
     "execution_count": 66,
     "metadata": {},
     "output_type": "execute_result"
    }
   ],
   "source": [
    "model.evaluate(valid_x,valid_y,return_dict=True)"
   ],
   "metadata": {
    "collapsed": false,
    "ExecuteTime": {
     "end_time": "2024-01-06T17:39:46.239740100Z",
     "start_time": "2024-01-06T17:39:44.977771700Z"
    }
   }
  }
 ]
}
