{
 "metadata": {
  "kernelspec": {
   "language": "python",
   "display_name": "Python 3",
   "name": "python3"
  },
  "language_info": {
   "name": "python",
   "version": "3.7.12",
   "mimetype": "text/x-python",
   "codemirror_mode": {
    "name": "ipython",
    "version": 3
   },
   "pygments_lexer": "ipython3",
   "nbconvert_exporter": "python",
   "file_extension": ".py"
  }
 },
 "nbformat_minor": 4,
 "nbformat": 4,
 "cells": [
  {
   "cell_type": "code",
   "source": [
    "import numpy as np\n",
    "from sklearn.model_selection import train_test_split\n",
    "import tensorflow as tf\n",
    "from keras.preprocessing.text import Tokenizer\n",
    "from keras.optimizers import Adam\n",
    "from keras.losses import SparseCategoricalCrossentropy\n",
    "from NCModel import NCModel\n",
    "import re\n",
    "import pandas as pd\n",
    "import matplotlib.pyplot as plt"
   ],
   "metadata": {
    "_uuid": "8f2839f25d086af736a60e9eeb907d3b93b6e0e5",
    "_cell_guid": "b1076dfc-b9ad-4769-8c92-a6c4dae69d19",
    "execution": {
     "iopub.status.busy": "2023-05-10T02:14:38.790150Z",
     "iopub.execute_input": "2023-05-10T02:14:38.790948Z",
     "iopub.status.idle": "2023-05-10T02:14:51.656521Z",
     "shell.execute_reply.started": "2023-05-10T02:14:38.790892Z",
     "shell.execute_reply": "2023-05-10T02:14:51.655310Z"
    },
    "trusted": true,
    "ExecuteTime": {
     "end_time": "2024-01-10T22:15:09.594596600Z",
     "start_time": "2024-01-10T22:15:09.582685800Z"
    }
   },
   "execution_count": 117,
   "outputs": []
  },
  {
   "cell_type": "code",
   "source": [
    "# Stopwords list from https://github.com/Yoast/YoastSEO.js/blob/develop/src/config/stopwords.js\n",
    "stopwords = [ \"a\", \"about\", \"above\", \"after\", \"again\", \"against\", \"all\", \"am\", \"an\", \"and\", \"any\", \"are\", \"as\", \"at\", \"be\", \"because\", \"been\", \"before\", \"being\", \"below\", \"between\", \"both\", \"but\", \"by\", \"could\", \"did\", \"do\", \"does\", \"doing\", \"down\", \"during\", \"each\", \"few\", \"for\", \"from\", \"further\", \"had\", \"has\", \"have\", \"having\", \"he\", \"he'd\", \"he'll\", \"he's\", \"her\", \"here\", \"here's\", \"hers\", \"herself\", \"him\", \"himself\", \"his\", \"how\", \"how's\", \"i\", \"i'd\", \"i'll\", \"i'm\", \"i've\", \"if\", \"in\", \"into\", \"is\", \"it\", \"it's\", \"its\", \"itself\", \"let's\", \"me\", \"more\", \"most\", \"my\", \"myself\", \"nor\", \"of\", \"on\", \"once\", \"only\", \"or\", \"other\", \"ought\", \"our\", \"ours\", \"ourselves\", \"out\", \"over\", \"own\", \"same\", \"she\", \"she'd\", \"she'll\", \"she's\", \"should\", \"so\", \"some\", \"such\", \"than\", \"that\", \"that's\", \"the\", \"their\", \"theirs\", \"them\", \"themselves\", \"then\", \"there\", \"there's\", \"these\", \"they\", \"they'd\", \"they'll\", \"they're\", \"they've\", \"this\", \"those\", \"through\", \"to\", \"too\", \"under\", \"until\", \"up\", \"very\", \"was\", \"we\", \"we'd\", \"we'll\", \"we're\", \"we've\", \"were\", \"what\", \"what's\", \"when\", \"when's\", \"where\", \"where's\", \"which\", \"while\", \"who\", \"who's\", \"whom\", \"why\", \"why's\", \"with\", \"would\", \"you\", \"you'd\", \"you'll\", \"you're\", \"you've\", \"your\", \"yours\", \"yourself\", \"yourselves\" ]"
   ],
   "metadata": {
    "execution": {
     "iopub.status.busy": "2023-05-10T02:15:47.366814Z",
     "iopub.execute_input": "2023-05-10T02:15:47.367381Z",
     "iopub.status.idle": "2023-05-10T02:15:47.384429Z",
     "shell.execute_reply.started": "2023-05-10T02:15:47.367335Z",
     "shell.execute_reply": "2023-05-10T02:15:47.382915Z"
    },
    "trusted": true,
    "ExecuteTime": {
     "end_time": "2024-01-10T22:15:09.594596600Z",
     "start_time": "2024-01-10T22:15:09.588710100Z"
    }
   },
   "execution_count": 118,
   "outputs": []
  },
  {
   "cell_type": "code",
   "source": [
    "# removing non alphanumeric character\n",
    "def alpha_num(text):\n",
    "    return re.sub(r'[^A-Za-z0-9 ]', '', text)\n",
    "\n",
    "# removing the stopwords from text\n",
    "def remove_stopwords(text):\n",
    "    final_text = []\n",
    "    for i in text.split():\n",
    "        if i.strip().lower() not in stopwords:\n",
    "            final_text.append(i.strip())\n",
    "    return \" \".join(final_text)\n",
    "\n",
    "def preprocess(df):\n",
    "    df['title'] = df['title'].str.lower()\n",
    "    df['title'] = df['title'].apply(alpha_num)\n",
    "    df['title'] = df['title'].apply(remove_stopwords)\n",
    "    df['body'] = df['body'].str.lower()\n",
    "    df['body'] = df['body'].apply(alpha_num)\n",
    "    df['body'] = df['body'].apply(remove_stopwords)\n",
    "    return df"
   ],
   "metadata": {
    "execution": {
     "iopub.status.busy": "2023-05-10T02:16:04.707509Z",
     "iopub.execute_input": "2023-05-10T02:16:04.708495Z",
     "iopub.status.idle": "2023-05-10T02:16:04.716279Z",
     "shell.execute_reply.started": "2023-05-10T02:16:04.708454Z",
     "shell.execute_reply": "2023-05-10T02:16:04.714248Z"
    },
    "trusted": true,
    "ExecuteTime": {
     "end_time": "2024-01-10T22:15:09.601413Z",
     "start_time": "2024-01-10T22:15:09.593623600Z"
    }
   },
   "execution_count": 119,
   "outputs": []
  },
  {
   "cell_type": "markdown",
   "source": [
    "# Limit GPU(Can be ignored)"
   ],
   "metadata": {
    "collapsed": false
   }
  },
  {
   "cell_type": "code",
   "execution_count": 120,
   "outputs": [],
   "source": [
    "# using_gpu_index = 0\n",
    "# gpu_list = tf.config.experimental.list_physical_devices('GPU')\n",
    "# if len(gpu_list) > 0:\n",
    "#     try:\n",
    "#         tf.config.experimental.set_virtual_device_configuration(\n",
    "#             gpu_list[using_gpu_index],\n",
    "#             [tf.config.experimental.VirtualDeviceConfiguration(memory_limit=4096)]  # limit the size of GPU memory\n",
    "#         )\n",
    "#     except RuntimeError as e:\n",
    "#         print(e)\n",
    "# else:\n",
    "#     print(\"Got no GPUs\")"
   ],
   "metadata": {
    "collapsed": false,
    "ExecuteTime": {
     "end_time": "2024-01-10T22:15:09.619780300Z",
     "start_time": "2024-01-10T22:15:09.600437900Z"
    }
   }
  },
  {
   "cell_type": "markdown",
   "source": [
    "# Data"
   ],
   "metadata": {
    "collapsed": false
   }
  },
  {
   "cell_type": "code",
   "execution_count": 121,
   "outputs": [
    {
     "data": {
      "text/plain": "            id  category                                            content\n0       234324        31  handle wrongway driver coming clevelands highw...\n1       255943        29  29 southern california zips make us list prici...\n2        94883        21  getting youth back work policy lessons around ...\n3        73321         0  katniss jon snows worst enemy hunger games got...\n4       149036         0  george clooney talks love amal s devastatingly...\n...        ...       ...                                                ...\n199995  197218        17  bobbi linden texas mom buys ipad gets box stuf...\n199996   12917         2  letting go feeling goodletting go isnt easy es...\n199997  115704         9  oklahoma teachers union calls end walkoutschoo...\n199998  318999        26  sc activists concerned toxins former upstate p...\n199999   29446        22  interested mars olympicsmars race human surviv...\n\n[200000 rows x 3 columns]",
      "text/html": "<div>\n<style scoped>\n    .dataframe tbody tr th:only-of-type {\n        vertical-align: middle;\n    }\n\n    .dataframe tbody tr th {\n        vertical-align: top;\n    }\n\n    .dataframe thead th {\n        text-align: right;\n    }\n</style>\n<table border=\"1\" class=\"dataframe\">\n  <thead>\n    <tr style=\"text-align: right;\">\n      <th></th>\n      <th>id</th>\n      <th>category</th>\n      <th>content</th>\n    </tr>\n  </thead>\n  <tbody>\n    <tr>\n      <th>0</th>\n      <td>234324</td>\n      <td>31</td>\n      <td>handle wrongway driver coming clevelands highw...</td>\n    </tr>\n    <tr>\n      <th>1</th>\n      <td>255943</td>\n      <td>29</td>\n      <td>29 southern california zips make us list prici...</td>\n    </tr>\n    <tr>\n      <th>2</th>\n      <td>94883</td>\n      <td>21</td>\n      <td>getting youth back work policy lessons around ...</td>\n    </tr>\n    <tr>\n      <th>3</th>\n      <td>73321</td>\n      <td>0</td>\n      <td>katniss jon snows worst enemy hunger games got...</td>\n    </tr>\n    <tr>\n      <th>4</th>\n      <td>149036</td>\n      <td>0</td>\n      <td>george clooney talks love amal s devastatingly...</td>\n    </tr>\n    <tr>\n      <th>...</th>\n      <td>...</td>\n      <td>...</td>\n      <td>...</td>\n    </tr>\n    <tr>\n      <th>199995</th>\n      <td>197218</td>\n      <td>17</td>\n      <td>bobbi linden texas mom buys ipad gets box stuf...</td>\n    </tr>\n    <tr>\n      <th>199996</th>\n      <td>12917</td>\n      <td>2</td>\n      <td>letting go feeling goodletting go isnt easy es...</td>\n    </tr>\n    <tr>\n      <th>199997</th>\n      <td>115704</td>\n      <td>9</td>\n      <td>oklahoma teachers union calls end walkoutschoo...</td>\n    </tr>\n    <tr>\n      <th>199998</th>\n      <td>318999</td>\n      <td>26</td>\n      <td>sc activists concerned toxins former upstate p...</td>\n    </tr>\n    <tr>\n      <th>199999</th>\n      <td>29446</td>\n      <td>22</td>\n      <td>interested mars olympicsmars race human surviv...</td>\n    </tr>\n  </tbody>\n</table>\n<p>200000 rows × 3 columns</p>\n</div>"
     },
     "execution_count": 121,
     "metadata": {},
     "output_type": "execute_result"
    }
   ],
   "source": [
    "train_df = pd.read_csv(\"./dataset/preprocessed_train.csv\")\n",
    "train_df"
   ],
   "metadata": {
    "collapsed": false,
    "ExecuteTime": {
     "end_time": "2024-01-10T22:15:11.308548600Z",
     "start_time": "2024-01-10T22:15:09.606657400Z"
    }
   }
  },
  {
   "cell_type": "code",
   "source": [
    "# parameters\n",
    "vocab_size = 7000\n",
    "max_length = 200\n",
    "trunc_type='post'\n",
    "padding_type='post'\n",
    "oov_tok = \"<OOV>\"\n",
    "train_x, train_y = train_df['content'].to_numpy(), train_df['category'].to_numpy().reshape(len(train_df['category']),1)\n",
    "\n",
    "# train-test split\n",
    "train_x,valid_x, train_y, valid_y = train_test_split(train_x, train_y, test_size=0.2, stratify=train_y)\n",
    "\n",
    "# tokenize sentences\n",
    "tokenizer = Tokenizer(num_words = vocab_size, oov_token=oov_tok)\n",
    "tokenizer.fit_on_texts(train_x)"
   ],
   "metadata": {
    "execution": {
     "iopub.status.busy": "2023-05-09T07:39:24.964495Z",
     "iopub.execute_input": "2023-05-09T07:39:24.964921Z",
     "iopub.status.idle": "2023-05-09T07:39:26.578779Z",
     "shell.execute_reply.started": "2023-05-09T07:39:24.964878Z",
     "shell.execute_reply": "2023-05-09T07:39:26.577688Z"
    },
    "trusted": true,
    "ExecuteTime": {
     "end_time": "2024-01-10T22:15:21.664203Z",
     "start_time": "2024-01-10T22:15:11.373619600Z"
    }
   },
   "execution_count": 122,
   "outputs": []
  },
  {
   "cell_type": "code",
   "execution_count": 123,
   "outputs": [],
   "source": [
    "# convert train dataset to sequence and pad sequences\n",
    "train_x = tokenizer.texts_to_sequences(train_x)\n",
    "train_x = tf.keras.preprocessing.sequence.pad_sequences(train_x, padding=padding_type, truncating=trunc_type, maxlen=max_length)"
   ],
   "metadata": {
    "collapsed": false,
    "ExecuteTime": {
     "end_time": "2024-01-10T22:15:28.213859400Z",
     "start_time": "2024-01-10T22:15:21.665178Z"
    }
   }
  },
  {
   "cell_type": "code",
   "execution_count": 124,
   "outputs": [
    {
     "data": {
      "text/plain": "160000"
     },
     "execution_count": 124,
     "metadata": {},
     "output_type": "execute_result"
    }
   ],
   "source": [
    "len(train_x)"
   ],
   "metadata": {
    "collapsed": false,
    "ExecuteTime": {
     "end_time": "2024-01-10T22:15:28.218725900Z",
     "start_time": "2024-01-10T22:15:28.214834Z"
    }
   }
  },
  {
   "cell_type": "code",
   "execution_count": 125,
   "outputs": [],
   "source": [
    "# txl = [len(i) for i in train_x]\n",
    "# txl.sort()\n",
    "# # print(txl)\n",
    "# print([min(txl),txl[45000],txl[135000],max(txl)])\n",
    "# plt.boxplot()\n",
    "# plt.show()"
   ],
   "metadata": {
    "collapsed": false,
    "ExecuteTime": {
     "end_time": "2024-01-10T22:15:28.225660400Z",
     "start_time": "2024-01-10T22:15:28.218725900Z"
    }
   }
  },
  {
   "cell_type": "code",
   "execution_count": 126,
   "outputs": [],
   "source": [
    "# convert valid dataset to sequence and pad sequences\n",
    "valid_x = tokenizer.texts_to_sequences(valid_x)\n",
    "valid_x = tf.keras.preprocessing.sequence.pad_sequences(valid_x, padding=padding_type, truncating=trunc_type, maxlen=max_length)"
   ],
   "metadata": {
    "collapsed": false,
    "ExecuteTime": {
     "end_time": "2024-01-10T22:15:29.792813400Z",
     "start_time": "2024-01-10T22:15:28.226634Z"
    }
   }
  },
  {
   "cell_type": "markdown",
   "source": [
    "# Model Construction"
   ],
   "metadata": {
    "collapsed": false
   }
  },
  {
   "cell_type": "code",
   "source": [
    "model = NCModel(input_dim=vocab_size,input_length=max_length,classes=32)\n",
    "model.build((None,max_length))\n",
    "model.compile(loss=SparseCategoricalCrossentropy(),\n",
    "              optimizer= Adam(),\n",
    "              metrics=['accuracy'])\n",
    "model.summary()"
   ],
   "metadata": {
    "execution": {
     "iopub.status.busy": "2023-05-09T07:44:37.642666Z",
     "iopub.execute_input": "2023-05-09T07:44:37.643063Z",
     "iopub.status.idle": "2023-05-09T07:44:37.711240Z",
     "shell.execute_reply.started": "2023-05-09T07:44:37.643026Z",
     "shell.execute_reply": "2023-05-09T07:44:37.710408Z"
    },
    "trusted": true,
    "ExecuteTime": {
     "end_time": "2024-01-10T22:25:19.335769Z",
     "start_time": "2024-01-10T22:25:19.207753500Z"
    }
   },
   "execution_count": 131,
   "outputs": [
    {
     "name": "stdout",
     "output_type": "stream",
     "text": [
      "Model: \"nc_model_8\"\n",
      "_________________________________________________________________\n",
      " Layer (type)                Output Shape              Param #   \n",
      "=================================================================\n",
      " embedding_8 (Embedding)     multiple                  224000    \n",
      "                                                                 \n",
      " lstm_8 (LSTM)               multiple                  8320      \n",
      "                                                                 \n",
      " dense_8 (Dense)             multiple                  1056      \n",
      "                                                                 \n",
      "=================================================================\n",
      "Total params: 233,376\n",
      "Trainable params: 233,376\n",
      "Non-trainable params: 0\n",
      "_________________________________________________________________\n"
     ]
    }
   ]
  },
  {
   "cell_type": "markdown",
   "source": [
    "# Train"
   ],
   "metadata": {
    "collapsed": false
   }
  },
  {
   "cell_type": "code",
   "execution_count": 128,
   "outputs": [
    {
     "name": "stdout",
     "output_type": "stream",
     "text": [
      "Epoch 1/10\n",
      "5000/5000 [==============================] - 61s 12ms/step - loss: 2.4670 - accuracy: 0.3018\n",
      "Epoch 2/10\n",
      "5000/5000 [==============================] - 51s 10ms/step - loss: 1.9392 - accuracy: 0.4367\n",
      "Epoch 3/10\n",
      "5000/5000 [==============================] - 65s 13ms/step - loss: 1.6818 - accuracy: 0.5021\n",
      "Epoch 4/10\n",
      "5000/5000 [==============================] - 69s 14ms/step - loss: 1.3855 - accuracy: 0.5988\n",
      "Epoch 5/10\n",
      "5000/5000 [==============================] - 62s 12ms/step - loss: 1.2332 - accuracy: 0.6486\n",
      "Epoch 6/10\n",
      "5000/5000 [==============================] - 67s 13ms/step - loss: 1.1414 - accuracy: 0.6745\n",
      "Epoch 7/10\n",
      "5000/5000 [==============================] - 51s 10ms/step - loss: 1.0719 - accuracy: 0.6946\n",
      "Epoch 8/10\n",
      "5000/5000 [==============================] - 49s 10ms/step - loss: 1.0121 - accuracy: 0.7094\n",
      "Epoch 9/10\n",
      "5000/5000 [==============================] - 50s 10ms/step - loss: 0.9610 - accuracy: 0.7232\n",
      "Epoch 10/10\n",
      "5000/5000 [==============================] - 49s 10ms/step - loss: 0.9139 - accuracy: 0.7365\n"
     ]
    }
   ],
   "source": [
    "history = model.fit(train_x, train_y, batch_size=32,epochs=10)"
   ],
   "metadata": {
    "collapsed": false,
    "ExecuteTime": {
     "end_time": "2024-01-10T22:25:04.769883200Z",
     "start_time": "2024-01-10T22:15:29.936605800Z"
    }
   }
  },
  {
   "cell_type": "markdown",
   "source": [
    "# Validation"
   ],
   "metadata": {
    "collapsed": false
   }
  },
  {
   "cell_type": "code",
   "execution_count": 129,
   "outputs": [
    {
     "name": "stdout",
     "output_type": "stream",
     "text": [
      "1250/1250 [==============================] - 6s 5ms/step - loss: 1.3041 - accuracy: 0.6411\n"
     ]
    },
    {
     "data": {
      "text/plain": "{'loss': 1.304148554801941, 'accuracy': 0.6411499977111816}"
     },
     "execution_count": 129,
     "metadata": {},
     "output_type": "execute_result"
    }
   ],
   "source": [
    "model.evaluate(valid_x,valid_y,return_dict=True)"
   ],
   "metadata": {
    "collapsed": false,
    "ExecuteTime": {
     "end_time": "2024-01-10T22:25:11.052636500Z",
     "start_time": "2024-01-10T22:25:04.769883200Z"
    }
   }
  }
 ]
}
